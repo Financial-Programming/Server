{
 "cells": [
  {
   "cell_type": "code",
   "execution_count": 192,
   "id": "51e7a115",
   "metadata": {},
   "outputs": [],
   "source": [
    "import pandas as pd\n",
    "import yfinance as yf\n",
    "import numpy as np\n",
    "from numpy import  linalg\n",
    "from pandas_datareader import data as prd"
   ]
  },
  {
   "cell_type": "code",
   "execution_count": 193,
   "id": "11d5851b",
   "metadata": {},
   "outputs": [],
   "source": [
    "def get_stock_info(L):\n",
    "    df = yf.download(L[0], start='2020-12-02', end='2021-12-01', progress=False)\n",
    "    df_pick = df['Adj Close']\n",
    "    info = (df_pick - df_pick.shift(axis=0)).div(df_pick.shift(axis=0),axis=0)\n",
    "    info.name = L[0]\n",
    "    info = pd.DataFrame(info,dtype=np.float)\n",
    "    \n",
    "    df1 = yf.download(L[1], start='2020-12-02', end='2021-12-01', progress=False)\n",
    "    df1_pick = df1['Adj Close']\n",
    "    info1 = (df1_pick - df1_pick.shift(axis=0)).div(df1_pick.shift(axis=0),axis=0)\n",
    "    info1.name = L[1]\n",
    "    info1 = pd.DataFrame(info1,dtype=np.float)\n",
    "\n",
    "    df2 = yf.download(L[2], start='2020-12-02', end='2021-12-01', progress=False)\n",
    "    df2_pick = df2['Adj Close'] \n",
    "    info2 = (df2_pick - df2_pick.shift(axis=0)).div(df2_pick.shift(axis=0),axis=0)\n",
    "    info2.name = L[2]\n",
    "    info2 = pd.DataFrame(info2,dtype=np.float)\n",
    "    \n",
    "    mama = pd.concat([info,info1,info2],axis=1)\n",
    "    return mama"
   ]
  },
  {
   "cell_type": "code",
   "execution_count": 194,
   "id": "a02b5646",
   "metadata": {},
   "outputs": [],
   "source": [
    "def blacklitterman(returns,tau=0.1):\n",
    "    pick1 = np.array([1,1,1])\n",
    "    q1 = np.array([0.003*4])\n",
    "    pick2 = np.array([0.5,0.5,-1])\n",
    "    q2 = np.array([0.001])\n",
    "    P = np.array([pick1,pick2])\n",
    "    Q = np.array([q1,q2])\n",
    "    mu = returns.mean()\n",
    "    sigma = returns.cov()\n",
    "    pil = np.expand_dims(mu,axis = 0).T\n",
    "    ts = tau * sigma\n",
    "    ts_1 = linalg.inv(ts)\n",
    "    Omega = np.dot(np.dot(P,ts), P.T)* np.eye(Q.shape[0])\n",
    "    Omega_1 = linalg.inv(Omega)\n",
    "    er = np.dot(linalg.inv(ts_1 + np.dot(np.dot(P.T,Omega_1),P)),(np.dot(ts_1 ,pil)+np.dot(np.dot(P.T,Omega_1),Q)))\n",
    "    posterirorSigma = linalg.inv(ts_1 + np.dot(np.dot(P.T,Omega_1),P))\n",
    "    return [er, posterirorSigma]\n"
   ]
  },
  {
   "cell_type": "code",
   "execution_count": 195,
   "id": "a586636d",
   "metadata": {},
   "outputs": [],
   "source": [
    "def blminVar(blres, goalRet):\n",
    "    covs = np.array(blres[1],dtype=float)\n",
    "    means = np.array(blres[0],dtype=float)\n",
    "    L1 = np.append(np.append(covs.swapaxes(0,1),[means.flatten()],axis=0),\n",
    "                   [np.ones(len(means))],axis=0).swapaxes(0,1)\n",
    "\n",
    "    L2 = list(np.ones(len(means)))\n",
    "    L2.extend([0,0])\n",
    "    L3 = list(means)\n",
    "    L3.extend([0,0])\n",
    "    L4 = np.array([L2,L3],dtype=float)\n",
    "    L = np.append(L1,L4,axis=0)\n",
    "    results = linalg.solve(L,np.append(np.zeros(len(means)),[1,goalRet]))\n",
    "\n",
    "    return pd.DataFrame(results[:-2],columns = ['p_weight'])\n"
   ]
  },
  {
   "cell_type": "code",
   "execution_count": 197,
   "id": "e11136af",
   "metadata": {},
   "outputs": [
    {
     "name": "stderr",
     "output_type": "stream",
     "text": [
      "<ipython-input-193-bc14122a229c>:6: DeprecationWarning: `np.float` is a deprecated alias for the builtin `float`. To silence this warning, use `float` by itself. Doing this will not modify any behavior and is safe. If you specifically wanted the numpy scalar type, use `np.float64` here.\n",
      "Deprecated in NumPy 1.20; for more details and guidance: https://numpy.org/devdocs/release/1.20.0-notes.html#deprecations\n",
      "  info = pd.DataFrame(info,dtype=np.float)\n",
      "<ipython-input-193-bc14122a229c>:12: DeprecationWarning: `np.float` is a deprecated alias for the builtin `float`. To silence this warning, use `float` by itself. Doing this will not modify any behavior and is safe. If you specifically wanted the numpy scalar type, use `np.float64` here.\n",
      "Deprecated in NumPy 1.20; for more details and guidance: https://numpy.org/devdocs/release/1.20.0-notes.html#deprecations\n",
      "  info1 = pd.DataFrame(info1,dtype=np.float)\n"
     ]
    },
    {
     "name": "stdout",
     "output_type": "stream",
     "text": [
      "   p_weight\n",
      "0  0.260778\n",
      "1  0.010836\n",
      "2  0.728386\n"
     ]
    },
    {
     "name": "stderr",
     "output_type": "stream",
     "text": [
      "<ipython-input-193-bc14122a229c>:18: DeprecationWarning: `np.float` is a deprecated alias for the builtin `float`. To silence this warning, use `float` by itself. Doing this will not modify any behavior and is safe. If you specifically wanted the numpy scalar type, use `np.float64` here.\n",
      "Deprecated in NumPy 1.20; for more details and guidance: https://numpy.org/devdocs/release/1.20.0-notes.html#deprecations\n",
      "  info2 = pd.DataFrame(info2,dtype=np.float)\n",
      "<ipython-input-195-2e9d05a33698>:11: DeprecationWarning: setting an array element with a sequence. This was supported in some cases where the elements are arrays with a single element. For example `np.array([1, np.array([2])], dtype=int)`. In the future this will raise the same ValueError as `np.array([1, [2]], dtype=int)`.\n",
      "  L4 = np.array([L2,L3],dtype=float)\n"
     ]
    }
   ],
   "source": [
    "L = [\"NVDA\",\"BABA\",\"AAPL\"] #需要输入的股票名\n",
    "info = get_stock_info(L)\n",
    "res = blacklitterman(info)\n",
    "blresult = blminVar(res,0.70/252) #0.7也是需要输入的期望收益率\n",
    "print(blresult)"
   ]
  }
 ],
 "metadata": {
  "kernelspec": {
   "display_name": "Python 3",
   "language": "python",
   "name": "python3"
  },
  "language_info": {
   "codemirror_mode": {
    "name": "ipython",
    "version": 3
   },
   "file_extension": ".py",
   "mimetype": "text/x-python",
   "name": "python",
   "nbconvert_exporter": "python",
   "pygments_lexer": "ipython3",
   "version": "3.8.8"
  }
 },
 "nbformat": 4,
 "nbformat_minor": 5
}
